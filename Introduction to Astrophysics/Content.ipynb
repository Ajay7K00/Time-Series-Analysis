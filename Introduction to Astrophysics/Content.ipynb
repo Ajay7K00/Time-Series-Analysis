{
 "cells": [
  {
   "cell_type": "markdown",
   "id": "28947573",
   "metadata": {},
   "source": [
    "<h1 align=\"center\" style = \"color: #cd7f32;\"> Introduction to Astrophysics </h1>"
   ]
  },
  {
   "cell_type": "markdown",
   "id": "d9c0ae66",
   "metadata": {},
   "source": [
    "<h1 align=\"center\" style=\"color: #cd7f32;\"> Content </h1>"
   ]
  },
  {
   "cell_type": "markdown",
   "id": "422cc063",
   "metadata": {},
   "source": [
    "### Introduction\n",
    "\n",
    "<a href=\"FITS File Handeling/Fits Handeling.ipynb\" target=\"_blank\">Handeling FITS Data</a> | <a href=\"Generating Time Series Data/Generating Time Series.ipynb\" target=\"_blank\">Generating Time Series</a>"
   ]
  },
  {
   "cell_type": "markdown",
   "id": "ee277054",
   "metadata": {},
   "source": [
    "### Power Spectral Density (PSD)\n",
    "\n",
    "<a href=\"Power Spectral Density/Discrete Autocorrelation Function (DACF).ipynb\" target=\"_blank\">Discrete Auto Correlation Function (DACF)</a> | <a href=\"Power Spectral Density/Analysis techniques for AGN's time series.ipynb\" target=\"_blank\">Structure Function And Lomb Scargle Periodogram (LSP)</a>"
   ]
  },
  {
   "cell_type": "markdown",
   "id": "90ed89f7-a861-4fa5-8de9-565cfe7e4bc7",
   "metadata": {},
   "source": [
    "### CDFS Data \n",
    "\n",
    "<a href=\"Good Time Intervals/Good Time Intervals.ipynb\" target=\"_blank\">Good Time Intervals</a>"
   ]
  }
 ],
 "metadata": {
  "kernelspec": {
   "display_name": "Python 3 (ipykernel)",
   "language": "python",
   "name": "python3"
  },
  "language_info": {
   "codemirror_mode": {
    "name": "ipython",
    "version": 3
   },
   "file_extension": ".py",
   "mimetype": "text/x-python",
   "name": "python",
   "nbconvert_exporter": "python",
   "pygments_lexer": "ipython3",
   "version": "3.10.12"
  }
 },
 "nbformat": 4,
 "nbformat_minor": 5
}
