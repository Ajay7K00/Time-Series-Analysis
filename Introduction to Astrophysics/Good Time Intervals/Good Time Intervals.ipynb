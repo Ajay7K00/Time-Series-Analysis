{
 "cells": [
  {
   "cell_type": "markdown",
   "id": "fbf0b68d-7a94-4539-9c6f-ac56811d7dbc",
   "metadata": {},
   "source": [
    "<h1> Good Time Intervals"
   ]
  },
  {
   "cell_type": "code",
   "execution_count": 4,
   "id": "104026b6-3175-4fd6-951f-9f6b5fb67667",
   "metadata": {},
   "outputs": [],
   "source": [
    "import numpy as np\n",
    "import matplotlib.pyplot as plt\n",
    "import astropy.io.fits as fit\n",
    "\n",
    "import time"
   ]
  },
  {
   "cell_type": "code",
   "execution_count": 5,
   "id": "6a35b929-7612-4907-a0de-ef5ef5f49b72",
   "metadata": {},
   "outputs": [
    {
     "ename": "FileNotFoundError",
     "evalue": "[Errno 2] No such file or directory: '/home/astro/Desktop/Project/acismCDFS_2000-2007-2010N002_evt2.fits'",
     "output_type": "error",
     "traceback": [
      "\u001b[1;31m---------------------------------------------------------------------------\u001b[0m",
      "\u001b[1;31mFileNotFoundError\u001b[0m                         Traceback (most recent call last)",
      "Cell \u001b[1;32mIn[5], line 4\u001b[0m\n\u001b[0;32m      1\u001b[0m start \u001b[38;5;241m=\u001b[39m time\u001b[38;5;241m.\u001b[39mtime()\n\u001b[0;32m      3\u001b[0m \u001b[38;5;66;03m#Consist of Source list (unfilterd) and  GTI's\u001b[39;00m\n\u001b[1;32m----> 4\u001b[0m cdfs \u001b[38;5;241m=\u001b[39m fit\u001b[38;5;241m.\u001b[39mopen(\u001b[38;5;124m'\u001b[39m\u001b[38;5;124m/home/astro/Desktop/Project/\u001b[39m\u001b[38;5;124m'\u001b[39m\u001b[38;5;241m+\u001b[39m\\\n\u001b[0;32m      5\u001b[0m                 \u001b[38;5;124m'\u001b[39m\u001b[38;5;124macismCDFS_2000-2007-2010N002_evt2.fits\u001b[39m\u001b[38;5;124m'\u001b[39m)\n\u001b[0;32m      7\u001b[0m \u001b[38;5;66;03m#len(cdfs[1]) = 7294929\u001b[39;00m\n\u001b[0;32m      8\u001b[0m img \u001b[38;5;241m=\u001b[39m cdfs[\u001b[38;5;241m1\u001b[39m]\u001b[38;5;241m.\u001b[39mdata\n",
      "File \u001b[1;32m~\\anaconda3\\Lib\\site-packages\\astropy\\io\\fits\\hdu\\hdulist.py:175\u001b[0m, in \u001b[0;36mfitsopen\u001b[1;34m(name, mode, memmap, save_backup, cache, lazy_load_hdus, ignore_missing_simple, **kwargs)\u001b[0m\n\u001b[0;32m    172\u001b[0m \u001b[38;5;28;01mif\u001b[39;00m \u001b[38;5;129;01mnot\u001b[39;00m name:\n\u001b[0;32m    173\u001b[0m     \u001b[38;5;28;01mraise\u001b[39;00m \u001b[38;5;167;01mValueError\u001b[39;00m(\u001b[38;5;124mf\u001b[39m\u001b[38;5;124m'\u001b[39m\u001b[38;5;124mEmpty filename: \u001b[39m\u001b[38;5;132;01m{\u001b[39;00mname\u001b[38;5;132;01m!r}\u001b[39;00m\u001b[38;5;124m'\u001b[39m)\n\u001b[1;32m--> 175\u001b[0m \u001b[38;5;28;01mreturn\u001b[39;00m HDUList\u001b[38;5;241m.\u001b[39mfromfile(name, mode, memmap, save_backup, cache,\n\u001b[0;32m    176\u001b[0m                         lazy_load_hdus, ignore_missing_simple, \u001b[38;5;241m*\u001b[39m\u001b[38;5;241m*\u001b[39mkwargs)\n",
      "File \u001b[1;32m~\\anaconda3\\Lib\\site-packages\\astropy\\io\\fits\\hdu\\hdulist.py:410\u001b[0m, in \u001b[0;36mHDUList.fromfile\u001b[1;34m(cls, fileobj, mode, memmap, save_backup, cache, lazy_load_hdus, ignore_missing_simple, **kwargs)\u001b[0m\n\u001b[0;32m    398\u001b[0m \u001b[38;5;129m@classmethod\u001b[39m\n\u001b[0;32m    399\u001b[0m \u001b[38;5;28;01mdef\u001b[39;00m \u001b[38;5;21mfromfile\u001b[39m(\u001b[38;5;28mcls\u001b[39m, fileobj, mode\u001b[38;5;241m=\u001b[39m\u001b[38;5;28;01mNone\u001b[39;00m, memmap\u001b[38;5;241m=\u001b[39m\u001b[38;5;28;01mNone\u001b[39;00m,\n\u001b[0;32m    400\u001b[0m              save_backup\u001b[38;5;241m=\u001b[39m\u001b[38;5;28;01mFalse\u001b[39;00m, cache\u001b[38;5;241m=\u001b[39m\u001b[38;5;28;01mTrue\u001b[39;00m, lazy_load_hdus\u001b[38;5;241m=\u001b[39m\u001b[38;5;28;01mTrue\u001b[39;00m,\n\u001b[0;32m    401\u001b[0m              ignore_missing_simple\u001b[38;5;241m=\u001b[39m\u001b[38;5;28;01mFalse\u001b[39;00m, \u001b[38;5;241m*\u001b[39m\u001b[38;5;241m*\u001b[39mkwargs):\n\u001b[0;32m    402\u001b[0m \u001b[38;5;250m    \u001b[39m\u001b[38;5;124;03m\"\"\"\u001b[39;00m\n\u001b[0;32m    403\u001b[0m \u001b[38;5;124;03m    Creates an `HDUList` instance from a file-like object.\u001b[39;00m\n\u001b[0;32m    404\u001b[0m \n\u001b[1;32m   (...)\u001b[0m\n\u001b[0;32m    407\u001b[0m \u001b[38;5;124;03m    documentation for details of the parameters accepted by this method).\u001b[39;00m\n\u001b[0;32m    408\u001b[0m \u001b[38;5;124;03m    \"\"\"\u001b[39;00m\n\u001b[1;32m--> 410\u001b[0m     \u001b[38;5;28;01mreturn\u001b[39;00m \u001b[38;5;28mcls\u001b[39m\u001b[38;5;241m.\u001b[39m_readfrom(fileobj\u001b[38;5;241m=\u001b[39mfileobj, mode\u001b[38;5;241m=\u001b[39mmode, memmap\u001b[38;5;241m=\u001b[39mmemmap,\n\u001b[0;32m    411\u001b[0m                          save_backup\u001b[38;5;241m=\u001b[39msave_backup, cache\u001b[38;5;241m=\u001b[39mcache,\n\u001b[0;32m    412\u001b[0m                          ignore_missing_simple\u001b[38;5;241m=\u001b[39mignore_missing_simple,\n\u001b[0;32m    413\u001b[0m                          lazy_load_hdus\u001b[38;5;241m=\u001b[39mlazy_load_hdus, \u001b[38;5;241m*\u001b[39m\u001b[38;5;241m*\u001b[39mkwargs)\n",
      "File \u001b[1;32m~\\anaconda3\\Lib\\site-packages\\astropy\\io\\fits\\hdu\\hdulist.py:1060\u001b[0m, in \u001b[0;36mHDUList._readfrom\u001b[1;34m(cls, fileobj, data, mode, memmap, cache, lazy_load_hdus, ignore_missing_simple, **kwargs)\u001b[0m\n\u001b[0;32m   1057\u001b[0m \u001b[38;5;28;01mif\u001b[39;00m fileobj \u001b[38;5;129;01mis\u001b[39;00m \u001b[38;5;129;01mnot\u001b[39;00m \u001b[38;5;28;01mNone\u001b[39;00m:\n\u001b[0;32m   1058\u001b[0m     \u001b[38;5;28;01mif\u001b[39;00m \u001b[38;5;129;01mnot\u001b[39;00m \u001b[38;5;28misinstance\u001b[39m(fileobj, _File):\n\u001b[0;32m   1059\u001b[0m         \u001b[38;5;66;03m# instantiate a FITS file object (ffo)\u001b[39;00m\n\u001b[1;32m-> 1060\u001b[0m         fileobj \u001b[38;5;241m=\u001b[39m _File(fileobj, mode\u001b[38;5;241m=\u001b[39mmode, memmap\u001b[38;5;241m=\u001b[39mmemmap, cache\u001b[38;5;241m=\u001b[39mcache)\n\u001b[0;32m   1061\u001b[0m     \u001b[38;5;66;03m# The Astropy mode is determined by the _File initializer if the\u001b[39;00m\n\u001b[0;32m   1062\u001b[0m     \u001b[38;5;66;03m# supplied mode was None\u001b[39;00m\n\u001b[0;32m   1063\u001b[0m     mode \u001b[38;5;241m=\u001b[39m fileobj\u001b[38;5;241m.\u001b[39mmode\n",
      "File \u001b[1;32m~\\anaconda3\\Lib\\site-packages\\astropy\\io\\fits\\file.py:170\u001b[0m, in \u001b[0;36m_File.__init__\u001b[1;34m(self, fileobj, mode, memmap, overwrite, cache)\u001b[0m\n\u001b[0;32m    168\u001b[0m     \u001b[38;5;28mself\u001b[39m\u001b[38;5;241m.\u001b[39m_open_fileobj(fileobj, mode, overwrite)\n\u001b[0;32m    169\u001b[0m \u001b[38;5;28;01melif\u001b[39;00m \u001b[38;5;28misinstance\u001b[39m(fileobj, (\u001b[38;5;28mstr\u001b[39m, \u001b[38;5;28mbytes\u001b[39m)):\n\u001b[1;32m--> 170\u001b[0m     \u001b[38;5;28mself\u001b[39m\u001b[38;5;241m.\u001b[39m_open_filename(fileobj, mode, overwrite)\n\u001b[0;32m    171\u001b[0m \u001b[38;5;28;01melse\u001b[39;00m:\n\u001b[0;32m    172\u001b[0m     \u001b[38;5;28mself\u001b[39m\u001b[38;5;241m.\u001b[39m_open_filelike(fileobj, mode, overwrite)\n",
      "File \u001b[1;32m~\\anaconda3\\Lib\\site-packages\\astropy\\io\\fits\\file.py:562\u001b[0m, in \u001b[0;36m_File._open_filename\u001b[1;34m(self, filename, mode, overwrite)\u001b[0m\n\u001b[0;32m    559\u001b[0m ext \u001b[38;5;241m=\u001b[39m os\u001b[38;5;241m.\u001b[39mpath\u001b[38;5;241m.\u001b[39msplitext(\u001b[38;5;28mself\u001b[39m\u001b[38;5;241m.\u001b[39mname)[\u001b[38;5;241m1\u001b[39m]\n\u001b[0;32m    561\u001b[0m \u001b[38;5;28;01mif\u001b[39;00m \u001b[38;5;129;01mnot\u001b[39;00m \u001b[38;5;28mself\u001b[39m\u001b[38;5;241m.\u001b[39m_try_read_compressed(\u001b[38;5;28mself\u001b[39m\u001b[38;5;241m.\u001b[39mname, magic, mode, ext\u001b[38;5;241m=\u001b[39mext):\n\u001b[1;32m--> 562\u001b[0m     \u001b[38;5;28mself\u001b[39m\u001b[38;5;241m.\u001b[39m_file \u001b[38;5;241m=\u001b[39m \u001b[38;5;28mopen\u001b[39m(\u001b[38;5;28mself\u001b[39m\u001b[38;5;241m.\u001b[39mname, IO_FITS_MODES[mode])\n\u001b[0;32m    563\u001b[0m     \u001b[38;5;28mself\u001b[39m\u001b[38;5;241m.\u001b[39mclose_on_error \u001b[38;5;241m=\u001b[39m \u001b[38;5;28;01mTrue\u001b[39;00m\n\u001b[0;32m    565\u001b[0m \u001b[38;5;66;03m# Make certain we're back at the beginning of the file\u001b[39;00m\n\u001b[0;32m    566\u001b[0m \u001b[38;5;66;03m# BZ2File does not support seek when the file is open for writing, but\u001b[39;00m\n\u001b[0;32m    567\u001b[0m \u001b[38;5;66;03m# when opening a file for write, bz2.BZ2File always truncates anyway.\u001b[39;00m\n",
      "\u001b[1;31mFileNotFoundError\u001b[0m: [Errno 2] No such file or directory: '/home/astro/Desktop/Project/acismCDFS_2000-2007-2010N002_evt2.fits'"
     ]
    }
   ],
   "source": [
    "start = time.time()\n",
    "\n",
    "#Consist of Source list (unfilterd) and  GTI's\n",
    "cdfs = fit.open('/home/astro/Desktop/Project/'+\\\n",
    "                'acismCDFS_2000-2007-2010N002_evt2.fits')\n",
    "\n",
    "#len(cdfs[1]) = 7294929\n",
    "img = cdfs[1].data\n",
    "\n",
    "# Create a copy of original data list (cdfs[1]) to avoid modification of original data.\n",
    "img_tmp = np.copy(img)\n",
    "\n",
    "gtis = [cdfs[2].data,cdfs[3].data,cdfs[4].data,cdfs[5].data]"
   ]
  },
  {
   "cell_type": "code",
   "execution_count": null,
   "id": "858f9e99-dbb5-40e2-980b-1c5672953928",
   "metadata": {},
   "outputs": [],
   "source": [
    "# Outer for loop to iterate through the index of GTI list \n",
    "for intervals in gtis:\n",
    "    \n",
    "    #Create an empty array to store the filtered data\n",
    "    good_data_lst = np.array([],dtype='int64')\n",
    "    \n",
    "    #Inner for loop too iterate through element(x) in GTI interval\n",
    "    for x in intervals:\n",
    "        low_lim, upp_lim = x\n",
    "        \n",
    "        # This line checks if 'time' in cdfs[1] lies within the lower & upper limit of interval, \n",
    "        # If it does it appends the index of 'time' to good_data_list array\n",
    "        # np.hstack - Stack arrays in horizontal sequence (column wise)\n",
    "        # np.where(condition[, x, y])\n",
    "        good_data_lst = np.hstack((good_data_lst,\n",
    "                                   np.where(np.logical_and(img_tmp['time']>=low_lim,\n",
    "                                                           img_tmp['time']<=upp_lim))[0]))\n",
    "    \n",
    "    #This line updates the imp_tmp array to only contain the data points of index \n",
    "    # that are in the good_data_lst\n",
    "    img_tmp = img_tmp[good_data_lst]\n",
    "            \n",
    "print(\"Time taken = \",time.time()-start) \n",
    "print(\"The filtered source list: \", img_tmp)"
   ]
  }
 ],
 "metadata": {
  "kernelspec": {
   "display_name": "Python 3 (ipykernel)",
   "language": "python",
   "name": "python3"
  },
  "language_info": {
   "codemirror_mode": {
    "name": "ipython",
    "version": 3
   },
   "file_extension": ".py",
   "mimetype": "text/x-python",
   "name": "python",
   "nbconvert_exporter": "python",
   "pygments_lexer": "ipython3",
   "version": "3.11.3"
  }
 },
 "nbformat": 4,
 "nbformat_minor": 5
}
