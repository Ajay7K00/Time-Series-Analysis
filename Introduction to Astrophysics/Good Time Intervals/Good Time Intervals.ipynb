{
 "cells": [
  {
   "cell_type": "markdown",
   "id": "fbf0b68d-7a94-4539-9c6f-ac56811d7dbc",
   "metadata": {},
   "source": [
    "<h1> Good Time Intervals"
   ]
  },
  {
   "cell_type": "code",
   "execution_count": null,
   "id": "104026b6-3175-4fd6-951f-9f6b5fb67667",
   "metadata": {},
   "outputs": [],
   "source": [
    "import numpy as np\n",
    "import matplotlib.pyplot as plt\n",
    "import astropy.io.fits as fit\n",
    "\n",
    "import time"
   ]
  },
  {
   "cell_type": "code",
   "execution_count": null,
   "id": "6a35b929-7612-4907-a0de-ef5ef5f49b72",
   "metadata": {},
   "outputs": [],
   "source": [
    "start = time.time()\n",
    "\n",
    "cdfs = fit.open('/home/astro/Desktop/Project/'+\\\n",
    "                'acismCDFS_2000-2007-2010N002_evt2.fits')\n",
    "    \n",
    "img = cdfs[1].data\n",
    "\n",
    "img_tmp = np.copy(img)\n",
    "\n",
    "gtis = [cdfs[2].data,cdfs[3].data,cdfs[4].data,cdfs[5].data]"
   ]
  },
  {
   "cell_type": "code",
   "execution_count": null,
   "id": "858f9e99-dbb5-40e2-980b-1c5672953928",
   "metadata": {},
   "outputs": [],
   "source": [
    "for intervals in gtis:\n",
    "    good_data_lst = np.array([],dtype='int64')\n",
    "    for x in intervals:\n",
    "        low_lim, upp_lim = x\n",
    "        \n",
    "        good_data_lst = np.hstack((good_data_lst,\n",
    "                                   np.where(np.logical_and(img_tmp['time']>=low_lim,\n",
    "                                                           img_tmp['time']<=upp_lim))[0]))\n",
    "        \n",
    "    img_tmp = img_tmp[good_data_lst]\n",
    "            \n",
    "print(\"Time taken = \",time.time()-start) "
   ]
  }
 ],
 "metadata": {
  "kernelspec": {
   "display_name": "Python 3 (ipykernel)",
   "language": "python",
   "name": "python3"
  },
  "language_info": {
   "codemirror_mode": {
    "name": "ipython",
    "version": 3
   },
   "file_extension": ".py",
   "mimetype": "text/x-python",
   "name": "python",
   "nbconvert_exporter": "python",
   "pygments_lexer": "ipython3",
   "version": "3.10.12"
  }
 },
 "nbformat": 4,
 "nbformat_minor": 5
}
